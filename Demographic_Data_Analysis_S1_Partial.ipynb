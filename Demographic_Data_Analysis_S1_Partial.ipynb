{
 "cells": [
  {
   "cell_type": "markdown",
   "metadata": {},
   "source": [
    "    # Demographic Data Analysis\n",
    "## Milestone 1: Help Level 3"
   ]
  },
  {
   "cell_type": "markdown",
   "metadata": {},
   "source": [
    "## 1. Data Collection"
   ]
  },
  {
   "cell_type": "code",
   "execution_count": 1,
   "metadata": {
    "ExecuteTime": {
     "end_time": "2023-08-30T16:00:05.213351Z",
     "start_time": "2023-08-30T16:00:04.662688Z"
    }
   },
   "outputs": [],
   "source": [
    "# import the Pandas library\n",
    "import pandas as pd"
   ]
  },
  {
   "cell_type": "markdown",
   "metadata": {},
   "source": [
    "You can load the csv files with the Pandas function [read_csv](https://pandas.pydata.org/pandas-docs/stable/reference/api/pandas.read_csv.html).   \n",
    "Check the following parameters : sep, names, header, and usecols."
   ]
  },
  {
   "cell_type": "markdown",
   "metadata": {},
   "source": [
    "### Education file: \"education.csv\"\n",
    "The file contains the following columns:  \n",
    "\n",
    "```Column  | Description\n",
    "--------| --------------------------------\n",
    "1°       | name of the state         \n",
    "2°       | % high school graduate or higher  \n",
    "3°       | high School rank  \n",
    "4°      | % bachelor degree or higher  \n",
    "5°      | bachelor degree rank  \n",
    "6°      | % advanced degree or higher  \n",
    "7°      | advanced degree rank\n",
    "```\n",
    "\n"
   ]
  },
  {
   "cell_type": "code",
   "execution_count": 20,
   "metadata": {},
   "outputs": [],
   "source": [
    "# There is no mention of column names. We should better make a first read of the file to see what we find in it.\n",
    "# Load and inspect the file education.csv"
   ]
  },
  {
   "cell_type": "code",
   "execution_count": 21,
   "metadata": {},
   "outputs": [],
   "source": [
    "# Load and inspect the file education.csv \n",
    "# You can use the following columns names: 'State','HSGradPer','HSRank','BADegPer','BARank','AdvDegPer','AdvRank'\n",
    "# Ignore the rank columns or delete them after loading"
   ]
  },
  {
   "cell_type": "code",
   "execution_count": 22,
   "metadata": {},
   "outputs": [],
   "source": [
    "# We want to use the column *State* as index. Lets's run some checks first.\n",
    "# Check that there are no extraneous values in the column State. If you find some, clean them.\n",
    "\n"
   ]
  },
  {
   "cell_type": "markdown",
   "metadata": {},
   "source": [
    "You can use a list comprehension to return all states in the column States that have extraneous characters. You can apply the Python method [isalpha](https://docs.python.org/3/library/stdtypes.html) to a string to check whether all characters in it are alphabetic. "
   ]
  },
  {
   "cell_type": "code",
   "execution_count": 23,
   "metadata": {},
   "outputs": [],
   "source": [
    "# In the column State replace the whitespaces with underscores\n"
   ]
  },
  {
   "cell_type": "markdown",
   "metadata": {},
   "source": [
    "You can use the Series method [str.replace](https://pandas.pydata.org/pandas-docs/stable/reference/api/pandas.Series.str.replace.html?highlight=str%20replace#pandas.Series.str.replace)"
   ]
  },
  {
   "cell_type": "code",
   "execution_count": 24,
   "metadata": {},
   "outputs": [],
   "source": [
    "# Get rid of the summary row \"United_States\""
   ]
  },
  {
   "cell_type": "markdown",
   "metadata": {},
   "source": [
    "You can use the DataFrame method [drop](https://pandas.pydata.org/pandas-docs/stable/reference/api/pandas.DataFrame.drop.html)"
   ]
  },
  {
   "cell_type": "code",
   "execution_count": 25,
   "metadata": {},
   "outputs": [],
   "source": [
    "# Make a last check that there is only one row for each state\n"
   ]
  },
  {
   "cell_type": "code",
   "execution_count": 26,
   "metadata": {},
   "outputs": [],
   "source": [
    "# Set the column State as the index\n",
    "# Order the dataframe according to the index\n",
    "# Inspect the dataframe"
   ]
  },
  {
   "cell_type": "code",
   "execution_count": 27,
   "metadata": {},
   "outputs": [],
   "source": [
    "# Check that there is only one row for each state and then set *State* as the index of the table."
   ]
  },
  {
   "cell_type": "code",
   "execution_count": 28,
   "metadata": {},
   "outputs": [],
   "source": [
    "# Check that all the numerical column were loaded as a number\n",
    "# If that's not the case, find out why, correct it, and cast the columns as numbers\n"
   ]
  },
  {
   "cell_type": "code",
   "execution_count": 29,
   "metadata": {},
   "outputs": [],
   "source": [
    "# Make a last inspection of the dataframe edu"
   ]
  },
  {
   "cell_type": "markdown",
   "metadata": {},
   "source": [
    "### File Life Expectancy: \"life_expectancy.csv\"\n",
    "The file contains the following columns  \n",
    "\n",
    "```\n",
    "Column        | Description\n",
    "--------------| --------------------------------\n",
    "State         | name of the state  \n",
    "LifeExp2018   | life expectancy (2017)   \n",
    "LifeExp2010   | life expectancy (2010)\n",
    "MaleLifeExp   | male life expectancy\n",
    "FemLifeExp    | female life expectancy\n",
    "```\n"
   ]
  },
  {
   "cell_type": "code",
   "execution_count": 30,
   "metadata": {},
   "outputs": [],
   "source": [
    "# load the file life_expectancy.csv and make a first inspection"
   ]
  },
  {
   "cell_type": "code",
   "execution_count": 32,
   "metadata": {},
   "outputs": [],
   "source": [
    "# We'll follow the same steps for the file life_expectancy\n",
    "# Since you will have to repeat these steps for the other files, we are going to define a function to clean a dataset\n",
    "def set_state_as_index(df):\n",
    "    # clean the column 'State', eliminating extraneous whitespaces\n",
    "    \n",
    "    # replace the middle whitespaces with underscore\n",
    "\n",
    "    # check that there are no duplicates in the column 'State'\n",
    "    \n",
    "    # set the 'State' column as the index of the dataframe and sort by the index \n",
    "    \n",
    "    # if there is a summary row \"United States\", drop it\n",
    "    pass"
   ]
  },
  {
   "cell_type": "code",
   "execution_count": 34,
   "metadata": {},
   "outputs": [],
   "source": [
    "# Run the function set_state_as_index on life_exp\n"
   ]
  },
  {
   "cell_type": "code",
   "execution_count": 35,
   "metadata": {},
   "outputs": [],
   "source": [
    "# inspect the dataframe\n"
   ]
  },
  {
   "cell_type": "markdown",
   "metadata": {},
   "source": [
    "Now lets's check which numeric columns contain something else than digits or a dot.   \n",
    "We are going to use regular expressions to check if the elements of the dataframe contain numbers (digits with or without a dot).  \n",
    "If you want to review regular expression, see the link we provided in the project"
   ]
  },
  {
   "cell_type": "code",
   "execution_count": 36,
   "metadata": {},
   "outputs": [],
   "source": [
    "# define a function that uses regular expresions to check if a string contains only digits with or without a dot\n",
    "import re\n",
    "def check_digit_or_dot(x):\n",
    "    return ...\n",
    "# create a boolean dataframe that is the result of applying the function check_digit_or_dot to all the elements of life_exp\n",
    "\n",
    "# inspect the rows of the boolean dataframe to see if there are any False values\n",
    "\n",
    "# print the rows of life_exp where there is at least one value that's not a number\n",
    "\n",
    "\n"
   ]
  },
  {
   "cell_type": "code",
   "execution_count": 37,
   "metadata": {},
   "outputs": [],
   "source": [
    "# coerce the columns to be numeric\n",
    "\n",
    "\n",
    "# check if all the columns are numeric"
   ]
  },
  {
   "cell_type": "code",
   "execution_count": 38,
   "metadata": {},
   "outputs": [],
   "source": [
    "# inspect the whole dataframe life_exp to see if all is ok"
   ]
  },
  {
   "cell_type": "markdown",
   "metadata": {},
   "source": [
    "## Crime file: \"crime.csv\"\n",
    "\n",
    "The file contains the following columns:\n",
    "\n",
    "```\n",
    "Column   |  Description\n",
    "---------| --------------------------------\n",
    "1°       |  name of the state                              \n",
    "2°       |  population (total inhabitants) (2015)                   \n",
    "3°       |  murders and non-negligent manslaughter (total deaths) (2015)\n",
    "4°       |  murders (total deaths) (2015)\n",
    "5°       |  gun murders (total deaths) (2015)\n",
    "6°       |  gun ownership (%) (2013)\n",
    "7°       |  murders and non-negligent manslaughter rate (per 100,000) (2015)\n",
    "8°       |  murder rate (per 100,000) \n",
    "9°       |  gun murder rate (per 100,000)\n",
    "```\n",
    "\n",
    "\n",
    "Follow the same procedure as with the other files"
   ]
  },
  {
   "cell_type": "markdown",
   "metadata": {},
   "source": [
    "## Area file: \"area.csv\"\n",
    "\n",
    "The file contains the following columns:    \n",
    "\n",
    "```\n",
    "Column    |  Description\n",
    "----------| --------------------------------\n",
    "State     |  name of the state                              \n",
    "TotalRank |  total area rank  \n",
    "TotalSqMi |  total area in SqMi\n",
    "TotalKmQ  |  total area in KmQ\n",
    "LandRank  |  land area rank\n",
    "LandSqMi  |  land area in SqMi \n",
    "LandKmQ   |  land area in KmQ\n",
    "LandPer   |  land area percentage \n",
    "WaterRank |  water area rank\n",
    "WaterSqMi |  water area in SqMi\n",
    "WaterKmQ  |  water area in KmQ\n",
    "WaterPer  |  water area percentage\n",
    "```\n",
    "\n",
    "Follow the same procedure as the other files\n",
    "Do not load the rank columns"
   ]
  },
  {
   "cell_type": "markdown",
   "metadata": {},
   "source": [
    "## Income file: \"income.xls\"\n",
    "\n",
    "For the file income we have an excel file: 'income.xlsx'. It contains the following columns:  \n",
    "\n",
    "```\n",
    "Column                                  |  Description    \n",
    "--------------------------------------- | --------------------------------   \n",
    "Rank                                    |  Rank for income in 2017   \n",
    "State                                   |  name of the State    \n",
    "Income2017                              |  median household  income in 2017   \n",
    "Income2016                              |  median household  income in 2016  \n",
    "...                                     |  ...  \n",
    "Income2007                              |  median household  income in 2007\n",
    "```\n",
    "\n",
    "Follow the same procedure as with the other files  \n",
    "Since this is an Excel file you'll need the Pandas function [read_excel](https://pandas.pydata.org/pandas-docs/stable/reference/api/pandas.read_excel.html)  \n",
    "Do not load the rank column"
   ]
  },
  {
   "cell_type": "markdown",
   "metadata": {},
   "source": [
    "## Region file: \"region.txt\"\n",
    "The file 'region.txt' file contains the following columns:  \n",
    "\n",
    "```\n",
    "Column     |  Description\n",
    "---------- | --------------------------------\n",
    "Name      |  name of the state \n",
    "Abb        |  abbreviation of the name of the state\n",
    "Region     |  the region that each state belong to (Northeast, South, North Central, West)\n",
    "Division   |  state division (New England, Middle Atlantic, South Atlantic, East South Central, West South Central, East North Central, West North Central, Mountain, and Pacific)\n",
    "```\n",
    "\n",
    "Follow the same procedure as the other files  \n",
    "You can load it with the Pandas function [read_csv](https://pandas.pydata.org/pandas-docs/stable/reference/api/pandas.read_csv.html)   \n",
    "Check what column separator was used.   \n",
    "Pay attention to the Division Column. There appear to be some inconsistencies. "
   ]
  },
  {
   "cell_type": "markdown",
   "metadata": {},
   "source": [
    "### Data Collection Report\n",
    "\n",
    "We loaded four csv data files, an excel file, and a text file. The first five data files were acquired from the following internet sources (Wikipedia):   \n",
    "* edu.csv : [List of U.S. states and territories by educational attainment](https://en.wikipedia.org/wiki/List_of_U.S._states_and_territories_by_educational_attainment)\n",
    "* crime.csv: [Gun violence in the United States by state](https://en.wikipedia.org/wiki/Gun_violence_in_the_United_States_by_state)\n",
    "* area.csv: [List of U.S. states and territories by area](https://en.wikipedia.org/wiki/List_of_U.S._states_and_territories_by_area)\n",
    "* life_expectancy.csv: [List of U.S. states and territories by life expectancy](https://en.wikipedia.org/wiki/List_of_U.S._states_and_territories_by_life_expectancy)\n",
    "The income file was provided in Excel format  \n",
    "* income.xlsx: Household income in the United States (https://en.wikipedia.org/wiki/Household_income_in_the_United_States)\n",
    "The region text data file was obtained from R package ‘datasets’ (state.x77)  \n",
    "* region.txt \n",
    "\n",
    "#### Problems encountered:\n",
    "** TO TO **\n",
    "List the problems you encountered and the solution you took\n"
   ]
  },
  {
   "cell_type": "markdown",
   "metadata": {},
   "source": [
    "## 2. Data Description"
   ]
  },
  {
   "cell_type": "markdown",
   "metadata": {},
   "source": [
    "In this part , you'll examine the \"surface\" properties of the data. \n",
    "Check the number of rows of each dataframe.\n",
    "You can use the DataFrame property [shape](https://pandas.pydata.org/pandas-docs/stable/reference/api/pandas.DataFrame.shape.html#pandas.DataFrame.shape)"
   ]
  },
  {
   "cell_type": "code",
   "execution_count": null,
   "metadata": {},
   "outputs": [],
   "source": []
  },
  {
   "cell_type": "markdown",
   "metadata": {},
   "source": [
    "### Data Description Report\n",
    "\n",
    "We acquired the following dataframes. All the dataframes have as index the State column.\n",
    "\n",
    "###### edu\n",
    "** TO DO **\n",
    "number of rows\n",
    "\n",
    "```\n",
    "Column    |  Type   | Description\n",
    "----------|---------|-------------------------\n",
    "State     |  object | name of the state         \n",
    "HSGradPer | float64 | % high school graduate or higher  \n",
    "BADegPer  | float64 | % bachelor degree or higher  \n",
    "AdvDegPer | float64 | % advanced degree or higher  \n",
    "```\n",
    "\n",
    "###### life_exp\n",
    "** TO DO **\n",
    "number of rows \n",
    "\n",
    "```\n",
    "Column      |  Type   | Description\n",
    "------------|---------|-------------------------\n",
    "State       |  object | name of the state         \n",
    "LifeExp2018 | float64 | life expectancy (2017)   \n",
    "LifeExp2010 | float64 | life expectancy (2010)   \n",
    "MaleLifeExp | float64 | male life expectancy  \n",
    "FemLifeExp  | float64 | female life expectancy\n",
    "```\n",
    "\n",
    "###### crime\n",
    "** TO DO **\n",
    "number of rows \n",
    "\n",
    "```\n",
    "Column       |  Type   | Description\n",
    "-------------|---------|-------------------------\n",
    "State        |  object | name of the state           \n",
    "PopTot       |   int64 | population (total inhabitants) (2015) \n",
    "MurderNMTot  |   int64 | murders and non-negligent manslaughter (total deaths) (2015)\n",
    "MurderTot    | float64 | murders (total deaths) (2015) \n",
    "GunMurderTot | float64 | gun murders (total deaths) (2015)\n",
    "GunOwnerPer  | float64 | gun ownership (%) (2013) \n",
    "MurderNMRate | float64 | murders and non-negligent manslaughter rate (per 100,000) (2015) \n",
    "MurderRate   | float64 | murder rate (per 100,000)\n",
    "GunMurderRate| float64 | gun murder rate (per 100,000)\n",
    "```\n",
    "\n",
    "###### area\n",
    "** TO DO **\n",
    "number of rows\n",
    "\n",
    "```\n",
    "Column    |  Type   | Description\n",
    "----------|---------|-------------------------\n",
    "State     |  object | name of the state           \n",
    "TotalSqMi | float64 |  total area in SqMi\n",
    "TotalKmQ  |   int64 |  total area in KmQ\n",
    "LandSqMi  | float64 |  land area in SqMi \n",
    "LandKmQ   |   int64 |  land area in KmQ\n",
    "LandPer   | float64 |  land area percentage \n",
    "WaterSqMi | float64 |  water area in SqMi\n",
    "WaterKmQ  |   int64 |  water area in KmQ\n",
    "WaterPer  | float64 |  water area percentage\n",
    "```\n",
    "\n",
    "###### income\n",
    "** TO DO **\n",
    "number of rows rows\n",
    "\n",
    "```\n",
    "Column     |  Type   | Description\n",
    "-----------|---------|-------------------------\n",
    "State      |  object | name of the state           \n",
    "Income2017 |   int64 | median household income in 2017\n",
    "Income2016 |   int64 | median household income in 2016\n",
    "Income2015 |   int64 | median household income in 2015\n",
    "Income2014 |   int64 | median household income in 2014\n",
    "Income2013 |   int64 | median household income in 2013\n",
    "Income2012 |   int64 | median household income in 2012\n",
    "Income2011 |   int64 | median household income in 2012\n",
    "Income2010 |   int64 | median household income in 2010\n",
    "Income2009 |   int64 | median household income in 2009\n",
    "Income2008 |   int64 | median household income in 2008\n",
    "Income2007 |   int64 | median household income in 2007\n",
    "```\n",
    "\n",
    "###### region\n",
    "** TO DO **\n",
    "number of row\n",
    "\n",
    "```\n",
    "Column     |  Type   | Description\n",
    "-----------|---------|-------------------------\n",
    "State      |  object | name of the state    \n",
    "Abb        |  object | abbreviation of the name of the state\n",
    "Region     |  object | the region that each state belongs to (Northeast, South, North Central, West)          \n",
    "Division   |  object | state divisions (New England, Middle Atlantic, South Atlantic, East South Central, West South Central, East North Central, West North Central, Mountain, and Pacific)           \n",
    "```\n",
    "\n",
    "\n"
   ]
  },
  {
   "cell_type": "markdown",
   "metadata": {},
   "source": [
    "## 3. Data Quality"
   ]
  },
  {
   "cell_type": "markdown",
   "metadata": {},
   "source": [
    "In this part you’ll examine if the data is complete. Check if you have all the cases you need (in this case, all the US states) and if there are missing values.\n",
    "\n",
    "In the U.S. there are 50 states, the federal district 'District of Columbia' and 5 inhabited territories: 'Puerto Rico', 'American Samoa', 'Guam', 'Northern Mariana Islands', and 'U.S. Virgin Islands’.\n",
    "\n",
    "Check if all the files you loaded contain the fifty states and if there are differences, investigate where these differences come from. You can use the index of the DataFrame region as a guide.\n",
    "\n",
    "Then check if there are missing values."
   ]
  },
  {
   "cell_type": "code",
   "execution_count": 39,
   "metadata": {},
   "outputs": [],
   "source": [
    "# define a variable state_names with the states in the index of region"
   ]
  },
  {
   "cell_type": "code",
   "execution_count": 40,
   "metadata": {},
   "outputs": [],
   "source": [
    "# for each of the other DataFrames, check if they contain a state that's not in state_names\n"
   ]
  },
  {
   "cell_type": "markdown",
   "metadata": {},
   "source": [
    "Check if the dataframes have missing values.   \n",
    "You can use the DataFrame method [isnull](https://pandas.pydata.org/pandas-docs/stable/reference/api/pandas.DataFrame.isnull.html?highlight=isnull#pandas.DataFrame.isnull)\n",
    "\n"
   ]
  },
  {
   "cell_type": "code",
   "execution_count": null,
   "metadata": {},
   "outputs": [],
   "source": []
  },
  {
   "cell_type": "code",
   "execution_count": null,
   "metadata": {},
   "outputs": [],
   "source": []
  },
  {
   "cell_type": "markdown",
   "metadata": {},
   "source": [
    "### Data Quality Report\n",
    "\n",
    "In the U.S. there are fifty states, the federal district 'District of Columbia' and five inhabited territories: 'Puerto Rico', 'American Samoa', 'Guam', 'Northern Mariana Islands', and 'U.S. Virgin Islands'.\n",
    "\n",
    "** TO DO **       \n",
    "Explain your findings"
   ]
  },
  {
   "cell_type": "markdown",
   "metadata": {},
   "source": [
    "## 4. Save the data"
   ]
  },
  {
   "cell_type": "markdown",
   "metadata": {},
   "source": [
    "Save the dataframes for the next milestone.\n",
    "You can use the DataFrame method [to_csv](https://pandas.pydata.org/pandas-docs/stable/reference/api/pandas.DataFrame.to_csv.html?highlight=to_csv#pandas.DataFrame.to_csv)"
   ]
  },
  {
   "cell_type": "code",
   "execution_count": null,
   "metadata": {},
   "outputs": [],
   "source": []
  }
 ],
 "metadata": {
  "kernelspec": {
   "display_name": "Python 3",
   "language": "python",
   "name": "python3"
  },
  "language_info": {
   "codemirror_mode": {
    "name": "ipython",
    "version": 3
   },
   "file_extension": ".py",
   "mimetype": "text/x-python",
   "name": "python",
   "nbconvert_exporter": "python",
   "pygments_lexer": "ipython3",
   "version": "3.7.9"
  }
 },
 "nbformat": 4,
 "nbformat_minor": 2
}
